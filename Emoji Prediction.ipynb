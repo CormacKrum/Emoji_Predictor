{
 "cells": [
  {
   "cell_type": "code",
   "execution_count": 132,
   "metadata": {},
   "outputs": [],
   "source": [
    "import emoji\n",
    "import pandas as pd\n",
    "import numpy as np\n",
    "from keras.models import Sequential\n",
    "from keras.layers import *\n",
    "from keras.utils import to_categorical\n",
    "from keras.callbacks import EarlyStopping,ModelCheckpoint\n",
    "import matplotlib.pyplot as plt\n",
    "plt.style.use('seaborn')"
   ]
  },
  {
   "cell_type": "code",
   "execution_count": 133,
   "metadata": {},
   "outputs": [],
   "source": [
    "emoji_dict = emoji.EMOJI_UNICODE"
   ]
  },
  {
   "cell_type": "code",
   "execution_count": 134,
   "metadata": {},
   "outputs": [],
   "source": [
    "emoji_dictionary = {\"0\": \"\\u2764\\uFE0F\",    # :heart: prints a black instead of red heart depending on the font\n",
    "                    \"1\": \":baseball:\",\n",
    "                    \"2\": \":beaming_face_with_smiling_eyes:\",\n",
    "                    \"3\": \":downcast_face_with_sweat:\",\n",
    "                    \"4\": \":fork_and_knife:\",\n",
    "                   }"
   ]
  },
  {
   "cell_type": "code",
   "execution_count": 135,
   "metadata": {},
   "outputs": [
    {
     "name": "stdout",
     "output_type": "stream",
     "text": [
      "❤️\n",
      "⚾\n",
      "😁\n",
      "😓\n",
      "🍴\n"
     ]
    }
   ],
   "source": [
    "for emo in emoji_dictionary.values():\n",
    "    print(emoji.emojize(emo))"
   ]
  },
  {
   "cell_type": "code",
   "execution_count": 136,
   "metadata": {},
   "outputs": [],
   "source": [
    "Training_data = pd.read_csv(\"Dataset/train_emoji.csv\",header=None)\n",
    "Testing_data = pd.read_csv(\"Dataset/test_emoji.csv\",header=None)"
   ]
  },
  {
   "cell_type": "code",
   "execution_count": 137,
   "metadata": {},
   "outputs": [
    {
     "data": {
      "text/html": [
       "<div>\n",
       "<style scoped>\n",
       "    .dataframe tbody tr th:only-of-type {\n",
       "        vertical-align: middle;\n",
       "    }\n",
       "\n",
       "    .dataframe tbody tr th {\n",
       "        vertical-align: top;\n",
       "    }\n",
       "\n",
       "    .dataframe thead th {\n",
       "        text-align: right;\n",
       "    }\n",
       "</style>\n",
       "<table border=\"1\" class=\"dataframe\">\n",
       "  <thead>\n",
       "    <tr style=\"text-align: right;\">\n",
       "      <th></th>\n",
       "      <th>0</th>\n",
       "      <th>1</th>\n",
       "    </tr>\n",
       "  </thead>\n",
       "  <tbody>\n",
       "    <tr>\n",
       "      <th>0</th>\n",
       "      <td>I want to eat\\t</td>\n",
       "      <td>4</td>\n",
       "    </tr>\n",
       "    <tr>\n",
       "      <th>1</th>\n",
       "      <td>he did not answer\\t</td>\n",
       "      <td>3</td>\n",
       "    </tr>\n",
       "    <tr>\n",
       "      <th>2</th>\n",
       "      <td>he got a raise\\t</td>\n",
       "      <td>2</td>\n",
       "    </tr>\n",
       "    <tr>\n",
       "      <th>3</th>\n",
       "      <td>she got me a present\\t</td>\n",
       "      <td>0</td>\n",
       "    </tr>\n",
       "    <tr>\n",
       "      <th>4</th>\n",
       "      <td>ha ha ha it was so funny\\t</td>\n",
       "      <td>2</td>\n",
       "    </tr>\n",
       "  </tbody>\n",
       "</table>\n",
       "</div>"
      ],
      "text/plain": [
       "                            0  1\n",
       "0             I want to eat\\t  4\n",
       "1         he did not answer\\t  3\n",
       "2            he got a raise\\t  2\n",
       "3      she got me a present\\t  0\n",
       "4  ha ha ha it was so funny\\t  2"
      ]
     },
     "execution_count": 137,
     "metadata": {},
     "output_type": "execute_result"
    }
   ],
   "source": [
    "Testing_data.head()"
   ]
  },
  {
   "cell_type": "code",
   "execution_count": 138,
   "metadata": {},
   "outputs": [],
   "source": [
    "X_train,y_train  = Training_data.iloc[:,0].values,Training_data.iloc[:,1].values\n",
    "X_test,y_test = Testing_data.iloc[:,0].values,Testing_data.iloc[:,1].values"
   ]
  },
  {
   "cell_type": "code",
   "execution_count": 139,
   "metadata": {},
   "outputs": [
    {
     "name": "stdout",
     "output_type": "stream",
     "text": [
      "never talk to me again ---> 😓\n",
      "I am proud of your achievements ---> 😁\n",
      "It is the worst day in my life ---> 😓\n",
      "Miss you so much ---> ❤️\n",
      "food is life ---> 🍴\n"
     ]
    }
   ],
   "source": [
    "for i in range(5):\n",
    "    print(X_train[i],\"--->\",emoji.emojize(emoji_dictionary[str(y_train[i])]))"
   ]
  },
  {
   "cell_type": "code",
   "execution_count": 140,
   "metadata": {},
   "outputs": [],
   "source": [
    "embeddings_index={}\n",
    "with open(\"emojifier/services/emojifier/glove.6B.50d.txt\",encoding='utf-8') as f:\n",
    "    for line in f:\n",
    "        value = line.split(\" \")\n",
    "        word = value[0]\n",
    "        coef = np.asarray(value[1:],dtype = 'float32')\n",
    "        embeddings_index[word] = list(coef)"
   ]
  },
  {
   "cell_type": "code",
   "execution_count": 141,
   "metadata": {},
   "outputs": [],
   "source": [
    "def embedding_output(X):\n",
    "    maxLen = 10\n",
    "    emb_dim = 50\n",
    "    embedding_out = np.zeros((X.shape[0],maxLen,emb_dim))\n",
    "    \n",
    "    for ix in range(X.shape[0]):\n",
    "        X[ix] = X[ix].split()\n",
    "        for ij in range(len(X[ix])):\n",
    "            try:\n",
    "                embedding_out[ix][ij] = embeddings_index[X[ix][ij].lower()]\n",
    "            except:\n",
    "                embedding_out[ix][ij] = np.zeros((emb_dim,))\n",
    "    return embedding_out"
   ]
  },
  {
   "cell_type": "code",
   "execution_count": 142,
   "metadata": {},
   "outputs": [],
   "source": [
    "embedding_matrix_train = embedding_output(X_train)\n",
    "embedding_matrix_test = embedding_output(X_test)\n",
    "y_train = to_categorical(y_train,num_classes=5)\n",
    "y_test = to_categorical(y_test,num_classes=5)"
   ]
  },
  {
   "cell_type": "code",
   "execution_count": 143,
   "metadata": {},
   "outputs": [
    {
     "name": "stdout",
     "output_type": "stream",
     "text": [
      "Model: \"sequential_4\"\n",
      "_________________________________________________________________\n",
      "Layer (type)                 Output Shape              Param #   \n",
      "=================================================================\n",
      "lstm_7 (LSTM)                (None, 10, 64)            29440     \n",
      "_________________________________________________________________\n",
      "dropout_7 (Dropout)          (None, 10, 64)            0         \n",
      "_________________________________________________________________\n",
      "lstm_8 (LSTM)                (None, 64)                33024     \n",
      "_________________________________________________________________\n",
      "dropout_8 (Dropout)          (None, 64)                0         \n",
      "_________________________________________________________________\n",
      "dense_4 (Dense)              (None, 5)                 325       \n",
      "_________________________________________________________________\n",
      "activation_4 (Activation)    (None, 5)                 0         \n",
      "=================================================================\n",
      "Total params: 62,789\n",
      "Trainable params: 62,789\n",
      "Non-trainable params: 0\n",
      "_________________________________________________________________\n"
     ]
    }
   ],
   "source": [
    "model = Sequential()\n",
    "model.add(LSTM(64,input_shape = (10,50),return_sequences = True))\n",
    "model.add(Dropout(0.5))\n",
    "model.add(LSTM(64))\n",
    "model.add(Dropout(0.5))\n",
    "model.add(Dense(5))\n",
    "model.add(Activation('softmax'))\n",
    "model.compile(loss = 'categorical_crossentropy',optimizer = 'adam',metrics = [\"accuracy\"])\n",
    "model.summary()"
   ]
  },
  {
   "cell_type": "code",
   "execution_count": 144,
   "metadata": {},
   "outputs": [
    {
     "name": "stdout",
     "output_type": "stream",
     "text": [
      "Train on 118 samples, validate on 14 samples\n",
      "Epoch 1/100\n",
      "118/118 [==============================] - 2s 18ms/step - loss: 1.6126 - accuracy: 0.2119 - val_loss: 1.5842 - val_accuracy: 0.2857\n",
      "Epoch 2/100\n",
      "118/118 [==============================] - 0s 787us/step - loss: 1.5850 - accuracy: 0.2797 - val_loss: 1.6000 - val_accuracy: 0.2857\n",
      "Epoch 3/100\n",
      "118/118 [==============================] - 0s 661us/step - loss: 1.5434 - accuracy: 0.3898 - val_loss: 1.6215 - val_accuracy: 0.2143\n",
      "Epoch 4/100\n",
      "118/118 [==============================] - 0s 586us/step - loss: 1.5279 - accuracy: 0.3729 - val_loss: 1.6410 - val_accuracy: 0.1429\n",
      "Epoch 5/100\n",
      "118/118 [==============================] - 0s 625us/step - loss: 1.5265 - accuracy: 0.2627 - val_loss: 1.6581 - val_accuracy: 0.1429\n",
      "Epoch 6/100\n",
      "118/118 [==============================] - 0s 630us/step - loss: 1.5122 - accuracy: 0.3390 - val_loss: 1.6667 - val_accuracy: 0.1429\n",
      "Epoch 7/100\n",
      "118/118 [==============================] - 0s 630us/step - loss: 1.5235 - accuracy: 0.2881 - val_loss: 1.6500 - val_accuracy: 0.1429\n",
      "Epoch 8/100\n",
      "118/118 [==============================] - 0s 625us/step - loss: 1.4707 - accuracy: 0.3475 - val_loss: 1.6281 - val_accuracy: 0.2143\n",
      "Epoch 9/100\n",
      "118/118 [==============================] - 0s 632us/step - loss: 1.4335 - accuracy: 0.4237 - val_loss: 1.6021 - val_accuracy: 0.2143\n",
      "Epoch 10/100\n",
      "118/118 [==============================] - 0s 632us/step - loss: 1.4485 - accuracy: 0.3898 - val_loss: 1.5677 - val_accuracy: 0.2143\n",
      "Epoch 11/100\n",
      "118/118 [==============================] - 0s 697us/step - loss: 1.4093 - accuracy: 0.4492 - val_loss: 1.5352 - val_accuracy: 0.2143\n",
      "Epoch 12/100\n",
      "118/118 [==============================] - 0s 775us/step - loss: 1.3910 - accuracy: 0.4492 - val_loss: 1.5072 - val_accuracy: 0.2143\n",
      "Epoch 13/100\n",
      "118/118 [==============================] - 0s 731us/step - loss: 1.3460 - accuracy: 0.5000 - val_loss: 1.4814 - val_accuracy: 0.3571\n",
      "Epoch 14/100\n",
      "118/118 [==============================] - 0s 720us/step - loss: 1.3070 - accuracy: 0.4492 - val_loss: 1.4478 - val_accuracy: 0.2857\n",
      "Epoch 15/100\n",
      "118/118 [==============================] - 0s 623us/step - loss: 1.2743 - accuracy: 0.4915 - val_loss: 1.4197 - val_accuracy: 0.3571\n",
      "Epoch 16/100\n",
      "118/118 [==============================] - 0s 744us/step - loss: 1.2067 - accuracy: 0.5254 - val_loss: 1.3869 - val_accuracy: 0.3571\n",
      "Epoch 17/100\n",
      "118/118 [==============================] - 0s 656us/step - loss: 1.1521 - accuracy: 0.5847 - val_loss: 1.3571 - val_accuracy: 0.3571\n",
      "Epoch 18/100\n",
      "118/118 [==============================] - 0s 670us/step - loss: 1.1166 - accuracy: 0.5424 - val_loss: 1.3004 - val_accuracy: 0.5000\n",
      "Epoch 19/100\n",
      "118/118 [==============================] - 0s 791us/step - loss: 1.0335 - accuracy: 0.6271 - val_loss: 1.2546 - val_accuracy: 0.5000\n",
      "Epoch 20/100\n",
      "118/118 [==============================] - 0s 784us/step - loss: 0.9498 - accuracy: 0.6695 - val_loss: 1.2277 - val_accuracy: 0.4286\n",
      "Epoch 21/100\n",
      "118/118 [==============================] - 0s 716us/step - loss: 0.8926 - accuracy: 0.6695 - val_loss: 1.2279 - val_accuracy: 0.4286\n",
      "Epoch 22/100\n",
      "118/118 [==============================] - 0s 634us/step - loss: 0.8824 - accuracy: 0.6695 - val_loss: 1.2106 - val_accuracy: 0.4286\n",
      "Epoch 23/100\n",
      "118/118 [==============================] - 0s 670us/step - loss: 0.8225 - accuracy: 0.6949 - val_loss: 1.2098 - val_accuracy: 0.5000\n",
      "Epoch 24/100\n",
      "118/118 [==============================] - 0s 805us/step - loss: 0.7587 - accuracy: 0.7288 - val_loss: 1.2328 - val_accuracy: 0.5000\n",
      "Epoch 25/100\n",
      "118/118 [==============================] - 0s 668us/step - loss: 0.7168 - accuracy: 0.7542 - val_loss: 1.0837 - val_accuracy: 0.5714\n",
      "Epoch 26/100\n",
      "118/118 [==============================] - 0s 747us/step - loss: 0.6701 - accuracy: 0.7881 - val_loss: 1.0626 - val_accuracy: 0.6429\n",
      "Epoch 27/100\n",
      "118/118 [==============================] - 0s 640us/step - loss: 0.6150 - accuracy: 0.7458 - val_loss: 1.2664 - val_accuracy: 0.5714\n",
      "Epoch 28/100\n",
      "118/118 [==============================] - 0s 722us/step - loss: 0.5652 - accuracy: 0.8136 - val_loss: 1.0520 - val_accuracy: 0.6429\n",
      "Epoch 29/100\n",
      "118/118 [==============================] - 0s 747us/step - loss: 0.5071 - accuracy: 0.8305 - val_loss: 1.0159 - val_accuracy: 0.6429\n",
      "Epoch 30/100\n",
      "118/118 [==============================] - 0s 691us/step - loss: 0.4632 - accuracy: 0.8475 - val_loss: 1.1819 - val_accuracy: 0.6429\n",
      "Epoch 31/100\n",
      "118/118 [==============================] - 0s 624us/step - loss: 0.4710 - accuracy: 0.8559 - val_loss: 1.0297 - val_accuracy: 0.6429\n",
      "Epoch 32/100\n",
      "118/118 [==============================] - 0s 794us/step - loss: 0.3993 - accuracy: 0.8559 - val_loss: 0.9717 - val_accuracy: 0.7143\n",
      "Epoch 33/100\n",
      "118/118 [==============================] - 0s 712us/step - loss: 0.3402 - accuracy: 0.9237 - val_loss: 0.8941 - val_accuracy: 0.6429\n",
      "Epoch 34/100\n",
      "118/118 [==============================] - 0s 801us/step - loss: 0.3583 - accuracy: 0.8644 - val_loss: 0.9849 - val_accuracy: 0.7143\n",
      "Epoch 35/100\n",
      "118/118 [==============================] - 0s 681us/step - loss: 0.3004 - accuracy: 0.9153 - val_loss: 1.1345 - val_accuracy: 0.6429\n",
      "Epoch 36/100\n",
      "118/118 [==============================] - 0s 680us/step - loss: 0.2814 - accuracy: 0.9068 - val_loss: 1.1636 - val_accuracy: 0.6429\n",
      "Epoch 37/100\n",
      "118/118 [==============================] - 0s 671us/step - loss: 0.3258 - accuracy: 0.8983 - val_loss: 0.9671 - val_accuracy: 0.6429\n",
      "Epoch 38/100\n",
      "118/118 [==============================] - 0s 646us/step - loss: 0.2480 - accuracy: 0.9237 - val_loss: 0.8676 - val_accuracy: 0.6429\n",
      "Epoch 39/100\n",
      "118/118 [==============================] - 0s 779us/step - loss: 0.2075 - accuracy: 0.9661 - val_loss: 1.0093 - val_accuracy: 0.6429\n",
      "Epoch 40/100\n",
      "118/118 [==============================] - 0s 659us/step - loss: 0.2025 - accuracy: 0.9153 - val_loss: 1.2530 - val_accuracy: 0.6429\n",
      "Epoch 41/100\n",
      "118/118 [==============================] - 0s 807us/step - loss: 0.1860 - accuracy: 0.9407 - val_loss: 1.3288 - val_accuracy: 0.5714\n",
      "Epoch 42/100\n",
      "118/118 [==============================] - 0s 617us/step - loss: 0.1325 - accuracy: 0.9746 - val_loss: 1.5722 - val_accuracy: 0.5000\n",
      "Epoch 43/100\n",
      "118/118 [==============================] - 0s 617us/step - loss: 0.2156 - accuracy: 0.9237 - val_loss: 1.0567 - val_accuracy: 0.6429\n",
      "Epoch 44/100\n",
      "118/118 [==============================] - 0s 634us/step - loss: 0.1978 - accuracy: 0.9492 - val_loss: 1.0540 - val_accuracy: 0.7143\n",
      "Epoch 45/100\n",
      "118/118 [==============================] - 0s 617us/step - loss: 0.1448 - accuracy: 0.9576 - val_loss: 1.3917 - val_accuracy: 0.5714\n",
      "Epoch 46/100\n",
      "118/118 [==============================] - 0s 651us/step - loss: 0.1352 - accuracy: 0.9576 - val_loss: 1.6740 - val_accuracy: 0.5714\n",
      "Epoch 47/100\n",
      "118/118 [==============================] - 0s 625us/step - loss: 0.1222 - accuracy: 0.9576 - val_loss: 1.1359 - val_accuracy: 0.6429\n",
      "Epoch 48/100\n",
      "118/118 [==============================] - 0s 642us/step - loss: 0.1850 - accuracy: 0.9661 - val_loss: 1.0499 - val_accuracy: 0.6429\n"
     ]
    }
   ],
   "source": [
    "checkpoint = ModelCheckpoint(\"best_emoji_model.h5\",monitor = 'val_loss',verbose=False,save_best_only= True)\n",
    "earlyStop = EarlyStopping(monitor='val_loss',patience = 10)\n",
    "history = model.fit(embedding_matrix_train,y_train,epochs=100,batch_size=64,shuffle=True,validation_split=0.1,callbacks=[checkpoint,earlyStop])"
   ]
  },
  {
   "cell_type": "code",
   "execution_count": 145,
   "metadata": {},
   "outputs": [],
   "source": [
    "y_pred = model.predict(embedding_matrix_test)"
   ]
  },
  {
   "cell_type": "code",
   "execution_count": 146,
   "metadata": {},
   "outputs": [
    {
     "name": "stdout",
     "output_type": "stream",
     "text": [
      "56/56 [==============================] - 0s 1ms/step\n",
      "64.28571343421936\n"
     ]
    }
   ],
   "source": [
    "loss,test_acc = model.evaluate(embedding_matrix_test,y_test)\n",
    "\n",
    "print(test_acc*100)"
   ]
  },
  {
   "cell_type": "code",
   "execution_count": 147,
   "metadata": {},
   "outputs": [],
   "source": [
    "model.load_weights(\"best_emoji_model.h5\")"
   ]
  },
  {
   "cell_type": "code",
   "execution_count": 148,
   "metadata": {},
   "outputs": [
    {
     "name": "stdout",
     "output_type": "stream",
     "text": [
      "56/56 [==============================] - 0s 232us/step\n",
      "58.92857313156128\n"
     ]
    }
   ],
   "source": [
    "loss,test_acc = model.evaluate(embedding_matrix_test,y_test)\n",
    "\n",
    "print(test_acc*100)"
   ]
  },
  {
   "cell_type": "code",
   "execution_count": 149,
   "metadata": {},
   "outputs": [
    {
     "data": {
      "image/png": "[encoded data removed]",
      "text/plain": [
       "<Figure size 576x396 with 1 Axes>"
      ]
     },
     "metadata": {},
     "output_type": "display_data"
    }
   ],
   "source": [
    "for key,values in (history.history).items():\n",
    "    plt.plot(values,label = key)\n",
    "    plt.xlabel(\"Epoch\")\n",
    "    plt.ylabel(\"Validation\")\n",
    "    plt.legend()\n",
    "    plt.title(key)"
   ]
  },
  {
   "cell_type": "code",
   "execution_count": 150,
   "metadata": {},
   "outputs": [
    {
     "name": "stdout",
     "output_type": "stream",
     "text": [
      "I want to eat\n",
      "Actual Emoji :  🍴\n",
      "Predicted Emoji :  🍴\n",
      "\n",
      "he did not answer\n",
      "Actual Emoji :  😓\n",
      "Predicted Emoji :  😓\n",
      "\n",
      "he got a raise\n",
      "Actual Emoji :  😁\n",
      "Predicted Emoji :  😓\n",
      "\n",
      "she got me a present\n",
      "Actual Emoji :  ❤️\n",
      "Predicted Emoji :  ❤️\n",
      "\n",
      "ha ha ha it was so funny\n",
      "Actual Emoji :  😁\n",
      "Predicted Emoji :  😁\n",
      "\n",
      "he is a good friend\n",
      "Actual Emoji :  ❤️\n",
      "Predicted Emoji :  😁\n",
      "\n",
      "I am upset\n",
      "Actual Emoji :  ❤️\n",
      "Predicted Emoji :  ⚾\n",
      "\n",
      "We had such a lovely dinner tonight\n",
      "Actual Emoji :  ❤️\n",
      "Predicted Emoji :  😁\n",
      "\n",
      "where is the food\n",
      "Actual Emoji :  🍴\n",
      "Predicted Emoji :  🍴\n",
      "\n",
      "Stop making this joke ha ha ha\n",
      "Actual Emoji :  😁\n",
      "Predicted Emoji :  😁\n",
      "\n",
      "where is the ball\n",
      "Actual Emoji :  ⚾\n",
      "Predicted Emoji :  ⚾\n",
      "\n",
      "work is hard\n",
      "Actual Emoji :  😓\n",
      "Predicted Emoji :  😁\n",
      "\n",
      "This girl is messing with me\n",
      "Actual Emoji :  😓\n",
      "Predicted Emoji :  ❤️\n",
      "\n",
      "are you serious ha ha\n",
      "Actual Emoji :  😁\n",
      "Predicted Emoji :  😓\n",
      "\n",
      "Let us go play baseball\n",
      "Actual Emoji :  ⚾\n",
      "Predicted Emoji :  ⚾\n",
      "\n",
      "This stupid grader is not working\n",
      "Actual Emoji :  😓\n",
      "Predicted Emoji :  😓\n",
      "\n",
      "work is horrible\n",
      "Actual Emoji :  😓\n",
      "Predicted Emoji :  😓\n",
      "\n",
      "Congratulation for having a baby\n",
      "Actual Emoji :  😁\n",
      "Predicted Emoji :  😁\n",
      "\n",
      "stop messing around\n",
      "Actual Emoji :  😓\n",
      "Predicted Emoji :  😓\n",
      "\n",
      "any suggestions for dinner\n",
      "Actual Emoji :  🍴\n",
      "Predicted Emoji :  😁\n",
      "\n",
      "I love taking breaks\n",
      "Actual Emoji :  ❤️\n",
      "Predicted Emoji :  😓\n",
      "\n",
      "you brighten my day\n",
      "Actual Emoji :  😁\n",
      "Predicted Emoji :  ❤️\n",
      "\n",
      "I boiled rice\n",
      "Actual Emoji :  🍴\n",
      "Predicted Emoji :  🍴\n",
      "\n",
      "she is a bully\n",
      "Actual Emoji :  😓\n",
      "Predicted Emoji :  😁\n",
      "\n",
      "Why are you feeling bad\n",
      "Actual Emoji :  😓\n",
      "Predicted Emoji :  😓\n",
      "\n",
      "I am upset\n",
      "Actual Emoji :  😓\n",
      "Predicted Emoji :  ⚾\n",
      "\n",
      "I worked during my birthday\n",
      "Actual Emoji :  😓\n",
      "Predicted Emoji :  😁\n",
      "\n",
      "My grandmother is the love of my life\n",
      "Actual Emoji :  ❤️\n",
      "Predicted Emoji :  ❤️\n",
      "\n",
      "enjoy your break\n",
      "Actual Emoji :  😁\n",
      "Predicted Emoji :  🍴\n",
      "\n",
      "valentine day is near\n",
      "Actual Emoji :  ❤️\n",
      "Predicted Emoji :  😁\n",
      "\n"
     ]
    }
   ],
   "source": [
    "y_pred = model.predict(embedding_matrix_test)\n",
    "for i in range(30):\n",
    "    print(\" \".join(X_test[i]))\n",
    "    print(\"Actual Emoji : \",emoji.emojize(emoji_dictionary[str(np.argmax(y_test[i]))]))\n",
    "    print(\"Predicted Emoji : \",emoji.emojize(emoji_dictionary[str(np.argmax(y_pred[i]))]))\n",
    "    print()"
   ]
  },
  {
   "cell_type": "code",
   "execution_count": 151,
   "metadata": {},
   "outputs": [],
   "source": [
    "from sklearn.metrics import confusion_matrix"
   ]
  },
  {
   "cell_type": "code",
   "execution_count": 152,
   "metadata": {},
   "outputs": [],
   "source": [
    "y_test = np.argmax(y_test,axis=1)\n",
    "y_pred = np.argmax(y_pred,axis=1)"
   ]
  },
  {
   "cell_type": "code",
   "execution_count": 153,
   "metadata": {},
   "outputs": [],
   "source": [
    "confMat = confusion_matrix(y_test,y_pred)"
   ]
  },
  {
   "cell_type": "code",
   "execution_count": 154,
   "metadata": {},
   "outputs": [
    {
     "data": {
      "text/plain": [
       "array([[7, 1, 3, 1, 0],\n",
       "       [0, 5, 0, 0, 0],\n",
       "       [2, 1, 9, 5, 1],\n",
       "       [1, 3, 3, 8, 0],\n",
       "       [0, 0, 1, 1, 4]], dtype=int64)"
      ]
     },
     "execution_count": 154,
     "metadata": {},
     "output_type": "execute_result"
    }
   ],
   "source": [
    "confMat"
   ]
  },
  {
   "cell_type": "code",
   "execution_count": 155,
   "metadata": {},
   "outputs": [],
   "source": [
    "with open(\"best_emoji_model.json\",\"w\") as f:\n",
    "    f.write(model.to_json())"
   ]
  },
  {
   "cell_type": "code",
   "execution_count": 156,
   "metadata": {},
   "outputs": [],
   "source": [
    "from keras.models import model_from_json"
   ]
  },
  {
   "cell_type": "code",
   "execution_count": 157,
   "metadata": {},
   "outputs": [],
   "source": [
    "with open(\"best_emoji_model.json\",\"r\") as f:\n",
    "    model = model_from_json(f.read())\n",
    "model.load_weights(\"best_emoji_model.h5\")"
   ]
  },
  {
   "cell_type": "code",
   "execution_count": 158,
   "metadata": {},
   "outputs": [],
   "source": [
    "test_str = \"Hello how are you\"\n",
    "X = pd.Series([test_str])"
   ]
  },
  {
   "cell_type": "code",
   "execution_count": 159,
   "metadata": {},
   "outputs": [],
   "source": [
    "emb_X = embedding_output(X)\n",
    "p = model.predict_classes(emb_X)"
   ]
  },
  {
   "cell_type": "code",
   "execution_count": 160,
   "metadata": {},
   "outputs": [
    {
     "name": "stdout",
     "output_type": "stream",
     "text": [
      "[2]\n"
     ]
    }
   ],
   "source": [
    "print(p)"
   ]
  },
  {
   "cell_type": "code",
   "execution_count": 161,
   "metadata": {},
   "outputs": [
    {
     "name": "stdout",
     "output_type": "stream",
     "text": [
      "Hello how are you\n",
      "😁\n"
     ]
    }
   ],
   "source": [
    "print(\" \".join(X[0]))\n",
    "print(emoji.emojize(emoji_dictionary[str(p[0])]))"
   ]
  },
  {
   "cell_type": "code",
   "execution_count": null,
   "metadata": {},
   "outputs": [],
   "source": []
  }
 ],
 "metadata": {
  "kernelspec": {
   "display_name": "Python 3",
   "language": "python",
   "name": "python3"
  },
  "language_info": {
   "codemirror_mode": {
    "name": "ipython",
    "version": 3
   },
   "file_extension": ".py",
   "mimetype": "text/x-python",
   "name": "python",
   "nbconvert_exporter": "python",
   "pygments_lexer": "ipython3",
   "version": "3.7.7"
  }
 },
 "nbformat": 4,
 "nbformat_minor": 4
}
