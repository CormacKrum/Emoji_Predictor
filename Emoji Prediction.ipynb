{
 "cells": [
  {
   "cell_type": "code",
   "execution_count": 1,
   "metadata": {},
   "outputs": [
    {
     "name": "stderr",
     "output_type": "stream",
     "text": [
      "Using TensorFlow backend.\n"
     ]
    }
   ],
   "source": [
    "import emoji\n",
    "import pandas as pd\n",
    "import numpy as np\n",
    "from keras.models import Sequential\n",
    "from keras.layers import *\n",
    "from keras.utils import to_categorical\n",
    "from keras.callbacks import EarlyStopping,ModelCheckpoint\n",
    "import matplotlib.pyplot as plt\n",
    "plt.style.use('seaborn')"
   ]
  },
  {
   "cell_type": "code",
   "execution_count": 2,
   "metadata": {},
   "outputs": [],
   "source": [
    "emoji_dict = emoji.EMOJI_UNICODE"
   ]
  },
  {
   "cell_type": "code",
   "execution_count": 3,
   "metadata": {},
   "outputs": [],
   "source": [
    "emoji_dictionary = {\"0\": \"\\u2764\\uFE0F\",    # :heart: prints a black instead of red heart depending on the font\n",
    "                    \"1\": \":baseball:\",\n",
    "                    \"2\": \":beaming_face_with_smiling_eyes:\",\n",
    "                    \"3\": \":downcast_face_with_sweat:\",\n",
    "                    \"4\": \":fork_and_knife:\",\n",
    "                   }"
   ]
  },
  {
   "cell_type": "code",
   "execution_count": 4,
   "metadata": {},
   "outputs": [
    {
     "name": "stdout",
     "output_type": "stream",
     "text": [
      "❤️\n",
      "⚾\n",
      "😁\n",
      "😓\n",
      "🍴\n"
     ]
    }
   ],
   "source": [
    "for emo in emoji_dictionary.values():\n",
    "    print(emoji.emojize(emo))"
   ]
  },
  {
   "cell_type": "code",
   "execution_count": 5,
   "metadata": {},
   "outputs": [],
   "source": [
    "Training_data = pd.read_csv(\"Dataset/train_emoji.csv\",header=None)\n",
    "Testing_data = pd.read_csv(\"Dataset/test_emoji.csv\",header=None)"
   ]
  },
  {
   "cell_type": "code",
   "execution_count": 6,
   "metadata": {},
   "outputs": [
    {
     "data": {
      "text/html": [
       "<div>\n",
       "<style scoped>\n",
       "    .dataframe tbody tr th:only-of-type {\n",
       "        vertical-align: middle;\n",
       "    }\n",
       "\n",
       "    .dataframe tbody tr th {\n",
       "        vertical-align: top;\n",
       "    }\n",
       "\n",
       "    .dataframe thead th {\n",
       "        text-align: right;\n",
       "    }\n",
       "</style>\n",
       "<table border=\"1\" class=\"dataframe\">\n",
       "  <thead>\n",
       "    <tr style=\"text-align: right;\">\n",
       "      <th></th>\n",
       "      <th>0</th>\n",
       "      <th>1</th>\n",
       "    </tr>\n",
       "  </thead>\n",
       "  <tbody>\n",
       "    <tr>\n",
       "      <th>0</th>\n",
       "      <td>I want to eat\\t</td>\n",
       "      <td>4</td>\n",
       "    </tr>\n",
       "    <tr>\n",
       "      <th>1</th>\n",
       "      <td>he did not answer\\t</td>\n",
       "      <td>3</td>\n",
       "    </tr>\n",
       "    <tr>\n",
       "      <th>2</th>\n",
       "      <td>he got a raise\\t</td>\n",
       "      <td>2</td>\n",
       "    </tr>\n",
       "    <tr>\n",
       "      <th>3</th>\n",
       "      <td>she got me a present\\t</td>\n",
       "      <td>0</td>\n",
       "    </tr>\n",
       "    <tr>\n",
       "      <th>4</th>\n",
       "      <td>ha ha ha it was so funny\\t</td>\n",
       "      <td>2</td>\n",
       "    </tr>\n",
       "  </tbody>\n",
       "</table>\n",
       "</div>"
      ],
      "text/plain": [
       "                            0  1\n",
       "0             I want to eat\\t  4\n",
       "1         he did not answer\\t  3\n",
       "2            he got a raise\\t  2\n",
       "3      she got me a present\\t  0\n",
       "4  ha ha ha it was so funny\\t  2"
      ]
     },
     "execution_count": 6,
     "metadata": {},
     "output_type": "execute_result"
    }
   ],
   "source": [
    "Testing_data.head()"
   ]
  },
  {
   "cell_type": "code",
   "execution_count": 7,
   "metadata": {},
   "outputs": [],
   "source": [
    "X_train,y_train  = Training_data.iloc[:,0].values,Training_data.iloc[:,1].values\n",
    "X_test,y_test = Testing_data.iloc[:,0].values,Testing_data.iloc[:,1].values"
   ]
  },
  {
   "cell_type": "code",
   "execution_count": 8,
   "metadata": {},
   "outputs": [
    {
     "name": "stdout",
     "output_type": "stream",
     "text": [
      "never talk to me again ---> 😓\n",
      "I am proud of your achievements ---> 😁\n",
      "It is the worst day in my life ---> 😓\n",
      "Miss you so much ---> ❤️\n",
      "food is life ---> 🍴\n"
     ]
    }
   ],
   "source": [
    "for i in range(5):\n",
    "    print(X_train[i],\"--->\",emoji.emojize(emoji_dictionary[str(y_train[i])]))"
   ]
  },
  {
   "cell_type": "code",
   "execution_count": 9,
   "metadata": {},
   "outputs": [],
   "source": [
    "embeddings_index={}\n",
    "with open(\"glove.6B.50d.txt\",encoding='utf-8') as f:\n",
    "    for line in f:\n",
    "        value = line.split(\" \")\n",
    "        word = value[0]\n",
    "        coef = np.asarray(value[1:],dtype = 'float32')\n",
    "        embeddings_index[word] = list(coef)"
   ]
  },
  {
   "cell_type": "code",
   "execution_count": 10,
   "metadata": {},
   "outputs": [],
   "source": [
    "def embedding_output(X):\n",
    "    maxLen = 10\n",
    "    emb_dim = 50\n",
    "    embedding_out = np.zeros((X.shape[0],maxLen,emb_dim))\n",
    "    \n",
    "    for ix in range(X.shape[0]):\n",
    "        X[ix] = X[ix].split()\n",
    "        for ij in range(len(X[ix])):\n",
    "            try:\n",
    "                embedding_out[ix][ij] = embeddings_index[X[ix][ij].lower()]\n",
    "            except:\n",
    "                embedding_out[ix][ij] = np.zeros((emb_dim,))\n",
    "    return embedding_out"
   ]
  },
  {
   "cell_type": "code",
   "execution_count": 11,
   "metadata": {},
   "outputs": [],
   "source": [
    "embedding_matrix_train = embedding_output(X_train)\n",
    "embedding_matrix_test = embedding_output(X_test)\n",
    "y_train = to_categorical(y_train,num_classes=5)\n",
    "y_test = to_categorical(y_test,num_classes=5)"
   ]
  },
  {
   "cell_type": "code",
   "execution_count": 12,
   "metadata": {},
   "outputs": [
    {
     "name": "stdout",
     "output_type": "stream",
     "text": [
      "Model: \"sequential_1\"\n",
      "_________________________________________________________________\n",
      "Layer (type)                 Output Shape              Param #   \n",
      "=================================================================\n",
      "lstm_1 (LSTM)                (None, 10, 64)            29440     \n",
      "_________________________________________________________________\n",
      "dropout_1 (Dropout)          (None, 10, 64)            0         \n",
      "_________________________________________________________________\n",
      "lstm_2 (LSTM)                (None, 64)                33024     \n",
      "_________________________________________________________________\n",
      "dropout_2 (Dropout)          (None, 64)                0         \n",
      "_________________________________________________________________\n",
      "dense_1 (Dense)              (None, 5)                 325       \n",
      "_________________________________________________________________\n",
      "activation_1 (Activation)    (None, 5)                 0         \n",
      "=================================================================\n",
      "Total params: 62,789\n",
      "Trainable params: 62,789\n",
      "Non-trainable params: 0\n",
      "_________________________________________________________________\n"
     ]
    }
   ],
   "source": [
    "model = Sequential()\n",
    "model.add(LSTM(64,input_shape = (10,50),return_sequences = True))\n",
    "model.add(Dropout(0.5))\n",
    "model.add(LSTM(64))\n",
    "model.add(Dropout(0.5))\n",
    "model.add(Dense(5))\n",
    "model.add(Activation('softmax'))\n",
    "model.compile(loss = 'categorical_crossentropy',optimizer = 'adam',metrics = [\"accuracy\"])\n",
    "model.summary()"
   ]
  },
  {
   "cell_type": "code",
   "execution_count": 13,
   "metadata": {},
   "outputs": [
    {
     "name": "stdout",
     "output_type": "stream",
     "text": [
      "Train on 118 samples, validate on 14 samples\n",
      "Epoch 1/100\n",
      "118/118 [==============================] - 4s 30ms/step - loss: 1.6127 - accuracy: 0.1695 - val_loss: 1.6038 - val_accuracy: 0.5000\n",
      "Epoch 2/100\n",
      "118/118 [==============================] - 0s 669us/step - loss: 1.6081 - accuracy: 0.2288 - val_loss: 1.5982 - val_accuracy: 0.3571\n",
      "Epoch 3/100\n",
      "118/118 [==============================] - 0s 653us/step - loss: 1.5556 - accuracy: 0.3475 - val_loss: 1.5969 - val_accuracy: 0.3571\n",
      "Epoch 4/100\n",
      "118/118 [==============================] - 0s 1ms/step - loss: 1.5327 - accuracy: 0.3220 - val_loss: 1.6046 - val_accuracy: 0.3571\n",
      "Epoch 5/100\n",
      "118/118 [==============================] - 0s 1ms/step - loss: 1.5119 - accuracy: 0.3390 - val_loss: 1.6158 - val_accuracy: 0.3571\n",
      "Epoch 6/100\n",
      "118/118 [==============================] - 0s 1ms/step - loss: 1.4817 - accuracy: 0.4322 - val_loss: 1.6315 - val_accuracy: 0.3571\n",
      "Epoch 7/100\n",
      "118/118 [==============================] - 0s 1ms/step - loss: 1.4601 - accuracy: 0.4068 - val_loss: 1.6426 - val_accuracy: 0.1429\n",
      "Epoch 8/100\n",
      "118/118 [==============================] - 0s 961us/step - loss: 1.4531 - accuracy: 0.3898 - val_loss: 1.6442 - val_accuracy: 0.1429\n",
      "Epoch 9/100\n",
      "118/118 [==============================] - 0s 1ms/step - loss: 1.4180 - accuracy: 0.4068 - val_loss: 1.6239 - val_accuracy: 0.1429\n",
      "Epoch 10/100\n",
      "118/118 [==============================] - 0s 1ms/step - loss: 1.4106 - accuracy: 0.3898 - val_loss: 1.5894 - val_accuracy: 0.2143\n",
      "Epoch 11/100\n",
      "118/118 [==============================] - 0s 1ms/step - loss: 1.3763 - accuracy: 0.4322 - val_loss: 1.5355 - val_accuracy: 0.2143\n",
      "Epoch 12/100\n",
      "118/118 [==============================] - 0s 1ms/step - loss: 1.3350 - accuracy: 0.4915 - val_loss: 1.4775 - val_accuracy: 0.2857\n",
      "Epoch 13/100\n",
      "118/118 [==============================] - 0s 1ms/step - loss: 1.3290 - accuracy: 0.4746 - val_loss: 1.4187 - val_accuracy: 0.2857\n",
      "Epoch 14/100\n",
      "118/118 [==============================] - 0s 1ms/step - loss: 1.2499 - accuracy: 0.5508 - val_loss: 1.3588 - val_accuracy: 0.4286\n",
      "Epoch 15/100\n",
      "118/118 [==============================] - 0s 971us/step - loss: 1.2353 - accuracy: 0.5847 - val_loss: 1.3244 - val_accuracy: 0.5000\n",
      "Epoch 16/100\n",
      "118/118 [==============================] - 0s 1ms/step - loss: 1.1821 - accuracy: 0.5593 - val_loss: 1.3225 - val_accuracy: 0.5000\n",
      "Epoch 17/100\n",
      "118/118 [==============================] - 0s 1ms/step - loss: 1.0704 - accuracy: 0.6441 - val_loss: 1.3254 - val_accuracy: 0.5000\n",
      "Epoch 18/100\n",
      "118/118 [==============================] - 0s 1ms/step - loss: 0.9951 - accuracy: 0.6780 - val_loss: 1.3555 - val_accuracy: 0.4286\n",
      "Epoch 19/100\n",
      "118/118 [==============================] - ETA: 0s - loss: 1.0085 - accuracy: 0.64 - 0s 947us/step - loss: 1.0152 - accuracy: 0.6186 - val_loss: 1.2907 - val_accuracy: 0.5714\n",
      "Epoch 20/100\n",
      "118/118 [==============================] - 0s 1ms/step - loss: 0.8802 - accuracy: 0.6864 - val_loss: 1.2367 - val_accuracy: 0.6429\n",
      "Epoch 21/100\n",
      "118/118 [==============================] - 0s 1ms/step - loss: 0.8161 - accuracy: 0.7373 - val_loss: 1.2546 - val_accuracy: 0.6429\n",
      "Epoch 22/100\n",
      "118/118 [==============================] - 0s 933us/step - loss: 0.7710 - accuracy: 0.7373 - val_loss: 1.2082 - val_accuracy: 0.6429\n",
      "Epoch 23/100\n",
      "118/118 [==============================] - 0s 1ms/step - loss: 0.7296 - accuracy: 0.7712 - val_loss: 1.1582 - val_accuracy: 0.6429\n",
      "Epoch 24/100\n",
      "118/118 [==============================] - 0s 1ms/step - loss: 0.6731 - accuracy: 0.8051 - val_loss: 1.2296 - val_accuracy: 0.6429\n",
      "Epoch 25/100\n",
      "118/118 [==============================] - 0s 1ms/step - loss: 0.6508 - accuracy: 0.7797 - val_loss: 1.2806 - val_accuracy: 0.6429\n",
      "Epoch 26/100\n",
      "118/118 [==============================] - 0s 934us/step - loss: 0.5288 - accuracy: 0.8559 - val_loss: 1.0861 - val_accuracy: 0.6429\n",
      "Epoch 27/100\n",
      "118/118 [==============================] - 0s 1ms/step - loss: 0.5769 - accuracy: 0.8136 - val_loss: 1.0289 - val_accuracy: 0.6429\n",
      "Epoch 28/100\n",
      "118/118 [==============================] - 0s 1ms/step - loss: 0.4990 - accuracy: 0.8305 - val_loss: 1.1235 - val_accuracy: 0.6429\n",
      "Epoch 29/100\n",
      "118/118 [==============================] - 0s 1ms/step - loss: 0.4647 - accuracy: 0.8559 - val_loss: 0.8540 - val_accuracy: 0.7143\n",
      "Epoch 30/100\n",
      "118/118 [==============================] - 0s 947us/step - loss: 0.4193 - accuracy: 0.8644 - val_loss: 0.9432 - val_accuracy: 0.7143\n",
      "Epoch 31/100\n",
      "118/118 [==============================] - 0s 1ms/step - loss: 0.3670 - accuracy: 0.8814 - val_loss: 1.5380 - val_accuracy: 0.5000\n",
      "Epoch 32/100\n",
      "118/118 [==============================] - 0s 982us/step - loss: 0.4436 - accuracy: 0.8559 - val_loss: 1.5240 - val_accuracy: 0.4286\n",
      "Epoch 33/100\n",
      "118/118 [==============================] - 0s 891us/step - loss: 0.3878 - accuracy: 0.8983 - val_loss: 1.0517 - val_accuracy: 0.7143\n",
      "Epoch 34/100\n",
      "118/118 [==============================] - 0s 1ms/step - loss: 0.3846 - accuracy: 0.8983 - val_loss: 0.8586 - val_accuracy: 0.7143\n",
      "Epoch 35/100\n",
      "118/118 [==============================] - 0s 953us/step - loss: 0.3422 - accuracy: 0.8898 - val_loss: 0.9806 - val_accuracy: 0.6429\n",
      "Epoch 36/100\n",
      "118/118 [==============================] - 0s 977us/step - loss: 0.4049 - accuracy: 0.8814 - val_loss: 1.1012 - val_accuracy: 0.5714\n",
      "Epoch 37/100\n",
      "118/118 [==============================] - 0s 891us/step - loss: 0.3174 - accuracy: 0.8983 - val_loss: 1.0996 - val_accuracy: 0.5714\n",
      "Epoch 38/100\n",
      "118/118 [==============================] - 0s 897us/step - loss: 0.3024 - accuracy: 0.9068 - val_loss: 1.1447 - val_accuracy: 0.6429\n",
      "Epoch 39/100\n",
      "118/118 [==============================] - 0s 953us/step - loss: 0.3624 - accuracy: 0.8729 - val_loss: 1.2247 - val_accuracy: 0.5714\n"
     ]
    }
   ],
   "source": [
    "checkpoint = ModelCheckpoint(\"best_emoji_model.h5\",monitor = 'val_loss',verbose=False,save_best_only= True)\n",
    "earlyStop = EarlyStopping(monitor='val_loss',patience = 10)\n",
    "history = model.fit(embedding_matrix_train,y_train,epochs=100,batch_size=64,shuffle=True,validation_split=0.1,callbacks=[checkpoint,earlyStop])"
   ]
  },
  {
   "cell_type": "code",
   "execution_count": 14,
   "metadata": {},
   "outputs": [],
   "source": [
    "y_pred = model.predict(embedding_matrix_test)"
   ]
  },
  {
   "cell_type": "code",
   "execution_count": 15,
   "metadata": {},
   "outputs": [
    {
     "name": "stdout",
     "output_type": "stream",
     "text": [
      "56/56 [==============================] - 0s 270us/step\n",
      "62.5\n"
     ]
    }
   ],
   "source": [
    "loss,test_acc = model.evaluate(embedding_matrix_test,y_test)\n",
    "\n",
    "print(test_acc*100)"
   ]
  },
  {
   "cell_type": "code",
   "execution_count": 16,
   "metadata": {},
   "outputs": [],
   "source": [
    "model.load_weights(\"best_emoji_model.h5\")"
   ]
  },
  {
   "cell_type": "code",
   "execution_count": 17,
   "metadata": {},
   "outputs": [
    {
     "name": "stdout",
     "output_type": "stream",
     "text": [
      "56/56 [==============================] - 0s 341us/step\n",
      "60.71428656578064\n"
     ]
    }
   ],
   "source": [
    "loss,test_acc = model.evaluate(embedding_matrix_test,y_test)\n",
    "\n",
    "print(test_acc*100)"
   ]
  },
  {
   "cell_type": "code",
   "execution_count": 18,
   "metadata": {},
   "outputs": [
    {
     "data": {
      "image/png": "[encoded data removed]",
      "text/plain": [
       "<Figure size 576x396 with 1 Axes>"
      ]
     },
     "metadata": {},
     "output_type": "display_data"
    }
   ],
   "source": [
    "for key,values in (history.history).items():\n",
    "    plt.plot(values,label = key)\n",
    "    plt.xlabel(\"Epoch\")\n",
    "    plt.ylabel(\"Validation\")\n",
    "    plt.legend()\n",
    "    plt.title(key)"
   ]
  },
  {
   "cell_type": "code",
   "execution_count": 19,
   "metadata": {},
   "outputs": [
    {
     "name": "stdout",
     "output_type": "stream",
     "text": [
      "I want to eat\n",
      "Actual Emoji :  🍴\n",
      "Predicted Emoji :  🍴\n",
      "\n",
      "he did not answer\n",
      "Actual Emoji :  😓\n",
      "Predicted Emoji :  😓\n",
      "\n",
      "he got a raise\n",
      "Actual Emoji :  😁\n",
      "Predicted Emoji :  😁\n",
      "\n",
      "she got me a present\n",
      "Actual Emoji :  ❤️\n",
      "Predicted Emoji :  ❤️\n",
      "\n",
      "ha ha ha it was so funny\n",
      "Actual Emoji :  😁\n",
      "Predicted Emoji :  😁\n",
      "\n",
      "he is a good friend\n",
      "Actual Emoji :  ❤️\n",
      "Predicted Emoji :  ❤️\n",
      "\n",
      "I am upset\n",
      "Actual Emoji :  ❤️\n",
      "Predicted Emoji :  ❤️\n",
      "\n",
      "We had such a lovely dinner tonight\n",
      "Actual Emoji :  ❤️\n",
      "Predicted Emoji :  ❤️\n",
      "\n",
      "where is the food\n",
      "Actual Emoji :  🍴\n",
      "Predicted Emoji :  🍴\n",
      "\n",
      "Stop making this joke ha ha ha\n",
      "Actual Emoji :  😁\n",
      "Predicted Emoji :  😁\n",
      "\n",
      "where is the ball\n",
      "Actual Emoji :  ⚾\n",
      "Predicted Emoji :  ⚾\n",
      "\n",
      "work is hard\n",
      "Actual Emoji :  😓\n",
      "Predicted Emoji :  😓\n",
      "\n",
      "This girl is messing with me\n",
      "Actual Emoji :  😓\n",
      "Predicted Emoji :  😓\n",
      "\n",
      "are you serious ha ha\n",
      "Actual Emoji :  😁\n",
      "Predicted Emoji :  😁\n",
      "\n",
      "Let us go play baseball\n",
      "Actual Emoji :  ⚾\n",
      "Predicted Emoji :  ⚾\n",
      "\n",
      "This stupid grader is not working\n",
      "Actual Emoji :  😓\n",
      "Predicted Emoji :  😓\n",
      "\n",
      "work is horrible\n",
      "Actual Emoji :  😓\n",
      "Predicted Emoji :  😓\n",
      "\n",
      "Congratulation for having a baby\n",
      "Actual Emoji :  😁\n",
      "Predicted Emoji :  😁\n",
      "\n",
      "stop messing around\n",
      "Actual Emoji :  😓\n",
      "Predicted Emoji :  😓\n",
      "\n",
      "any suggestions for dinner\n",
      "Actual Emoji :  🍴\n",
      "Predicted Emoji :  🍴\n",
      "\n",
      "I love taking breaks\n",
      "Actual Emoji :  ❤️\n",
      "Predicted Emoji :  ❤️\n",
      "\n",
      "you brighten my day\n",
      "Actual Emoji :  😁\n",
      "Predicted Emoji :  😁\n",
      "\n",
      "I boiled rice\n",
      "Actual Emoji :  🍴\n",
      "Predicted Emoji :  🍴\n",
      "\n",
      "she is a bully\n",
      "Actual Emoji :  😓\n",
      "Predicted Emoji :  😓\n",
      "\n",
      "Why are you feeling bad\n",
      "Actual Emoji :  😓\n",
      "Predicted Emoji :  😓\n",
      "\n",
      "I am upset\n",
      "Actual Emoji :  😓\n",
      "Predicted Emoji :  😓\n",
      "\n",
      "I worked during my birthday\n",
      "Actual Emoji :  😓\n",
      "Predicted Emoji :  😓\n",
      "\n",
      "My grandmother is the love of my life\n",
      "Actual Emoji :  ❤️\n",
      "Predicted Emoji :  ❤️\n",
      "\n",
      "enjoy your break\n",
      "Actual Emoji :  😁\n",
      "Predicted Emoji :  😁\n",
      "\n",
      "valentine day is near\n",
      "Actual Emoji :  ❤️\n",
      "Predicted Emoji :  ❤️\n",
      "\n"
     ]
    }
   ],
   "source": [
    "for i in range(30):\n",
    "    print(\" \".join(X_test[i]))\n",
    "    print(\"Actual Emoji : \",emoji.emojize(emoji_dictionary[str(np.argmax(y_test[i]))]))\n",
    "    print(\"Predicted Emoji : \",emoji.emojize(emoji_dictionary[str(np.argmax(y_test[i]))]))\n",
    "    print()"
   ]
  },
  {
   "cell_type": "code",
   "execution_count": 20,
   "metadata": {},
   "outputs": [],
   "source": [
    "from sklearn.metrics import confusion_matrix"
   ]
  },
  {
   "cell_type": "code",
   "execution_count": 21,
   "metadata": {},
   "outputs": [],
   "source": [
    "y_test = np.argmax(y_test,axis=1)\n",
    "y_pred = np.argmax(y_pred,axis=1)"
   ]
  },
  {
   "cell_type": "code",
   "execution_count": 24,
   "metadata": {},
   "outputs": [],
   "source": [
    "confMat = confusion_matrix(y_test,y_pred)"
   ]
  },
  {
   "cell_type": "code",
   "execution_count": 25,
   "metadata": {},
   "outputs": [
    {
     "data": {
      "text/plain": [
       "array([[ 5,  0,  6,  1,  0],\n",
       "       [ 0,  5,  0,  0,  0],\n",
       "       [ 3,  1, 12,  2,  0],\n",
       "       [ 2,  0,  3,  9,  1],\n",
       "       [ 0,  0,  1,  1,  4]], dtype=int64)"
      ]
     },
     "execution_count": 25,
     "metadata": {},
     "output_type": "execute_result"
    }
   ],
   "source": [
    "confMat"
   ]
  },
  {
   "cell_type": "code",
   "execution_count": null,
   "metadata": {},
   "outputs": [],
   "source": []
  }
 ],
 "metadata": {
  "kernelspec": {
   "display_name": "Python 3",
   "language": "python",
   "name": "python3"
  },
  "language_info": {
   "codemirror_mode": {
    "name": "ipython",
    "version": 3
   },
   "file_extension": ".py",
   "mimetype": "text/x-python",
   "name": "python",
   "nbconvert_exporter": "python",
   "pygments_lexer": "ipython3",
   "version": "3.7.7"
  }
 },
 "nbformat": 4,
 "nbformat_minor": 4
}
